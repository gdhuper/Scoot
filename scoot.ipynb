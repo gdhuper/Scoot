{
 "cells": [
  {
   "cell_type": "code",
   "execution_count": 26,
   "metadata": {
    "collapsed": false,
    "deletable": true,
    "editable": true
   },
   "outputs": [
    {
     "name": "stdout",
     "output_type": "stream",
     "text": [
      "       id  scooter_id  vehicle_type_id  user_id  scoot_plan_id  ride_type_id  \\\n",
      "0  305028          90                1     6026              5           8.0   \n",
      "1  305389         137                1    12831              5           2.0   \n",
      "2  305461         315                3     5182              5           8.0   \n",
      "3  305484         226                1    13858              5           7.0   \n",
      "4  305487         185                1     5182              5           8.0   \n",
      "5  305597         405                3    13858              5           7.0   \n",
      "6  305620         314                3    11201              5           8.0   \n",
      "7  305645         140                1     5182              5           8.0   \n",
      "8  305679         288                3     5182              5           8.0   \n",
      "9  305727         402                3    11201              5           8.0   \n",
      "\n",
      "          start_time_local           end_time_local  price scoot_moved  \\\n",
      "0  01/01/2016 12:29:42.726  01/02/2016 10:26:08.707    0.0           t   \n",
      "1  01/02/2016 08:50:45.461  01/03/2016 12:35:00.454    0.0           t   \n",
      "2  01/02/2016 11:25:10.825  01/02/2016 11:25:18.706    0.0         NaN   \n",
      "3  01/02/2016 11:58:48.467  01/02/2016 11:59:02.206    0.0         NaN   \n",
      "4  01/02/2016 12:02:18.529  01/02/2016 12:07:31.735    0.0         NaN   \n",
      "5  01/02/2016 14:32:22.333  01/02/2016 14:33:23.401    0.0         NaN   \n",
      "6  01/02/2016 14:47:10.467   01/02/2016 14:52:47.26    0.0         NaN   \n",
      "7  01/02/2016 15:11:55.054  01/02/2016 15:16:32.994    0.0         NaN   \n",
      "8  01/02/2016 15:53:03.889  01/02/2016 15:53:18.069    0.0         NaN   \n",
      "9  01/02/2016 16:36:31.244  01/02/2016 16:43:09.462    0.0         NaN   \n",
      "\n",
      "   start_odometer  end_odometer  start_range  end_range  start_location_id  \\\n",
      "0          3692.6        3696.0         18.0       13.0               97.0   \n",
      "1           411.0         416.8         17.0       13.0               63.0   \n",
      "2           839.4         839.4         14.0       14.0               19.0   \n",
      "3          3328.3        3328.3         22.0       22.0               80.0   \n",
      "4          2855.1        2855.1          3.0        0.0              123.0   \n",
      "5           695.0         695.0          0.0        0.0               96.0   \n",
      "6          1074.2        1074.2         14.0       14.0                2.0   \n",
      "7          2637.0        2637.0          0.0       24.0              113.0   \n",
      "8           620.7         620.7          0.0       14.0              100.0   \n",
      "9           766.8         766.8         14.0       14.0               94.0   \n",
      "\n",
      "   start_lat   start_lon  end_location_id    end_lat     end_lon  \n",
      "0  37.804907 -122.441988            113.0  37.796233 -122.434748  \n",
      "1  37.780402 -122.396679             95.0  37.768121 -122.423728  \n",
      "2  37.762936 -122.435561             19.0  37.762900 -122.435538  \n",
      "3  37.770888 -122.447803             80.0  37.770888 -122.447803  \n",
      "4  37.775423 -122.447945            123.0  37.775340 -122.447974  \n",
      "5  37.793017 -122.416574             96.0  37.793017 -122.416574  \n",
      "6  37.756834 -122.420208              2.0  37.756834 -122.420208  \n",
      "7  37.797226 -122.427586            113.0  37.797185 -122.427532  \n",
      "8  37.805485 -122.431768            100.0  37.805478 -122.431745  \n",
      "9  37.765613 -122.428873             94.0  37.765613 -122.428873  \n"
     ]
    },
    {
     "ename": "TypeError",
     "evalue": "string indices must be integers",
     "output_type": "error",
     "traceback": [
      "\u001b[0;31m---------------------------------------------------------------------------\u001b[0m",
      "\u001b[0;31mTypeError\u001b[0m                                 Traceback (most recent call last)",
      "\u001b[0;32m<ipython-input-26-9d073a669dde>\u001b[0m in \u001b[0;36m<module>\u001b[0;34m()\u001b[0m\n\u001b[1;32m     33\u001b[0m \u001b[0mprint\u001b[0m\u001b[0;34m(\u001b[0m\u001b[0mscoot_rides_test_df\u001b[0m\u001b[0;34m[\u001b[0m\u001b[0;34m:\u001b[0m\u001b[0;36m10\u001b[0m\u001b[0;34m]\u001b[0m\u001b[0;34m)\u001b[0m\u001b[0;34m\u001b[0m\u001b[0m\n\u001b[1;32m     34\u001b[0m \u001b[0;34m\u001b[0m\u001b[0m\n\u001b[0;32m---> 35\u001b[0;31m \u001b[0mparseAndFilterData\u001b[0m\u001b[0;34m(\u001b[0m\u001b[0;34m)\u001b[0m\u001b[0;34m\u001b[0m\u001b[0m\n\u001b[0m",
      "\u001b[0;32m<ipython-input-26-9d073a669dde>\u001b[0m in \u001b[0;36mparseAndFilterData\u001b[0;34m()\u001b[0m\n\u001b[1;32m     27\u001b[0m \u001b[0;32mdef\u001b[0m \u001b[0mparseAndFilterData\u001b[0m\u001b[0;34m(\u001b[0m\u001b[0;34m)\u001b[0m\u001b[0;34m:\u001b[0m\u001b[0;34m\u001b[0m\u001b[0m\n\u001b[1;32m     28\u001b[0m         \u001b[0;32mfor\u001b[0m \u001b[0mrecord\u001b[0m \u001b[0;32min\u001b[0m \u001b[0mscoot_rides_test_df\u001b[0m\u001b[0;34m:\u001b[0m\u001b[0;34m\u001b[0m\u001b[0m\n\u001b[0;32m---> 29\u001b[0;31m                 \u001b[0mrecord\u001b[0m\u001b[0;34m[\u001b[0m\u001b[0;34m'start_time_local'\u001b[0m\u001b[0;34m]\u001b[0m \u001b[0;34m=\u001b[0m \u001b[0mparseDate\u001b[0m\u001b[0;34m(\u001b[0m\u001b[0mrecord\u001b[0m\u001b[0;34m[\u001b[0m\u001b[0;34m'start_time_local'\u001b[0m\u001b[0;34m]\u001b[0m\u001b[0;34m)\u001b[0m\u001b[0;34m\u001b[0m\u001b[0m\n\u001b[0m\u001b[1;32m     30\u001b[0m                 \u001b[0mrecord\u001b[0m\u001b[0;34m[\u001b[0m\u001b[0;34m'end_time_local'\u001b[0m\u001b[0;34m]\u001b[0m  \u001b[0;34m=\u001b[0m \u001b[0mparseDate\u001b[0m\u001b[0;34m(\u001b[0m\u001b[0mrecord\u001b[0m\u001b[0;34m[\u001b[0m\u001b[0;34m'end_time_local'\u001b[0m\u001b[0;34m]\u001b[0m\u001b[0;34m)\u001b[0m\u001b[0;34m\u001b[0m\u001b[0m\n\u001b[1;32m     31\u001b[0m                 \u001b[0mrecord\u001b[0m\u001b[0;34m[\u001b[0m\u001b[0;34m'scoot_moved'\u001b[0m\u001b[0;34m]\u001b[0m \u001b[0;34m=\u001b[0m \u001b[0mparseScootMoved\u001b[0m\u001b[0;34m(\u001b[0m\u001b[0mrecord\u001b[0m\u001b[0;34m[\u001b[0m\u001b[0;34m'scoot_moved'\u001b[0m\u001b[0;34m]\u001b[0m\u001b[0;34m)\u001b[0m\u001b[0;34m\u001b[0m\u001b[0m\n",
      "\u001b[0;31mTypeError\u001b[0m: string indices must be integers"
     ]
    }
   ],
   "source": [
    "import pandas as pd\n",
    "import numpy as np\n",
    "import seaborn as sns\n",
    "import matplotlib.pyplot as plt\n",
    "from datetime import datetime as dt\n",
    "import sys\n",
    "#from mpl_toolkits.basemap import Basemap\n",
    "\n",
    "\n",
    "\n",
    "\n",
    "#creating pandas dataframe from csv file\n",
    "scoot_rides_test_df = pd.read_csv('scoot_rides_test.csv')\n",
    "\n",
    "def parseDate(date):\n",
    "\tif date == '':\n",
    "\t\treturn None\n",
    "\telse:\n",
    "\t\treturn dt.strptime(date, '%m/%d/%Y %H:%M:%S.%f').date()\n",
    "\t\t\n",
    "def parseScootMoved(t):\n",
    "\tif t == 'nan' or t == None:\n",
    "\t\treturn False\n",
    "\telse:\n",
    "\t\treturn True\n",
    "\n",
    "def parseAndFilterData():\n",
    "\tfor record in scoot_rides_test_df:\n",
    "\t\trecord['start_time_local'] = parseDate(record['start_time_local'])\n",
    "\t\trecord['end_time_local']  = parseDate(record['end_time_local'])\n",
    "\t\trecord['scoot_moved'] = parseScootMoved(record['scoot_moved'])\n",
    "    \n",
    "print(scoot_rides_test_df[:10])\n",
    "\n",
    "parseAndFilterData()"
   ]
  },
  {
   "cell_type": "code",
   "execution_count": null,
   "metadata": {
    "collapsed": true,
    "deletable": true,
    "editable": true
   },
   "outputs": [],
   "source": []
  },
  {
   "cell_type": "code",
   "execution_count": null,
   "metadata": {
    "collapsed": true,
    "deletable": true,
    "editable": true
   },
   "outputs": [],
   "source": []
  },
  {
   "cell_type": "code",
   "execution_count": null,
   "metadata": {
    "collapsed": true
   },
   "outputs": [],
   "source": []
  }
 ],
 "metadata": {
  "kernelspec": {
   "display_name": "Python 3",
   "language": "python",
   "name": "python3"
  },
  "language_info": {
   "codemirror_mode": {
    "name": "ipython",
    "version": 3
   },
   "file_extension": ".py",
   "mimetype": "text/x-python",
   "name": "python",
   "nbconvert_exporter": "python",
   "pygments_lexer": "ipython3",
   "version": "3.6.1"
  }
 },
 "nbformat": 4,
 "nbformat_minor": 2
}
