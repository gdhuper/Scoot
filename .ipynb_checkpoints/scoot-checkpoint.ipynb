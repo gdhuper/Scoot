{
 "cells": [
  {
   "cell_type": "code",
   "execution_count": 25,
   "metadata": {
    "collapsed": false,
    "deletable": true,
    "editable": true
   },
   "outputs": [
    {
     "ename": "IndentationError",
     "evalue": "unindent does not match any outer indentation level (<ipython-input-25-634b6f954171>, line 33)",
     "output_type": "error",
     "traceback": [
      "\u001b[0;36m  File \u001b[0;32m\"<ipython-input-25-634b6f954171>\"\u001b[0;36m, line \u001b[0;32m33\u001b[0m\n\u001b[0;31m    print(scoot_rides_test_df[:10])\u001b[0m\n\u001b[0m                                   ^\u001b[0m\n\u001b[0;31mIndentationError\u001b[0m\u001b[0;31m:\u001b[0m unindent does not match any outer indentation level\n"
     ]
    }
   ],
   "source": [
    "import pandas as pd\n",
    "import numpy as np\n",
    "import seaborn as sns\n",
    "import matplotlib.pyplot as plt\n",
    "from datetime import datetime as dt\n",
    "import sys\n",
    "#from mpl_toolkits.basemap import Basemap\n",
    "\n",
    "\n",
    "\n",
    "\n",
    "#creating pandas dataframe from csv file\n",
    "scoot_rides_test_df = pd.read_csv('scoot_rides_test.csv')\n",
    "\n",
    "def parseDate(date):\n",
    "\tif date == '':\n",
    "\t\treturn None\n",
    "\telse:\n",
    "\t\treturn dt.strptime(date, '%m/%d/%Y %H:%M:%S.%f').date()\n",
    "\t\t\n",
    "def parseScootMoved(t):\n",
    "\tif t == 'nan' or t == None:\n",
    "\t\treturn False\n",
    "\telse:\n",
    "\t\treturn True\n",
    "\n",
    "def parseAndFilterData():\n",
    "\tfor record in scoot_rides_test_df:\n",
    "\t\trecord['start_time_local'] = parseDate(record['start_time_local'])\n",
    "\t\trecord['end_time_local']  = parseDate(record['end_time_local'])\n",
    "\t\trecord['scoot_moved'] = parseScootMoved(record['scoot_moved'])\n",
    "    \n",
    "print(scoot_rides_test_df[:10])\n",
    "\n",
    "parseAndFilterData()"
   ]
  },
  {
   "cell_type": "code",
   "execution_count": null,
   "metadata": {
    "collapsed": true,
    "deletable": true,
    "editable": true
   },
   "outputs": [],
   "source": []
  },
  {
   "cell_type": "code",
   "execution_count": null,
   "metadata": {
    "collapsed": true,
    "deletable": true,
    "editable": true
   },
   "outputs": [],
   "source": []
  },
  {
   "cell_type": "code",
   "execution_count": null,
   "metadata": {
    "collapsed": true
   },
   "outputs": [],
   "source": []
  }
 ],
 "metadata": {
  "kernelspec": {
   "display_name": "Python 3",
   "language": "python",
   "name": "python3"
  },
  "language_info": {
   "codemirror_mode": {
    "name": "ipython",
    "version": 3
   },
   "file_extension": ".py",
   "mimetype": "text/x-python",
   "name": "python",
   "nbconvert_exporter": "python",
   "pygments_lexer": "ipython3",
   "version": "3.6.1"
  }
 },
 "nbformat": 4,
 "nbformat_minor": 2
}
